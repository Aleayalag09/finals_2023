{
 "cells": [
  {
   "cell_type": "code",
   "execution_count": 70,
   "id": "f3ec9492",
   "metadata": {},
   "outputs": [],
   "source": [
    "import numpy as np\n",
    "import scipy as sc\n",
    "import sympy as sp\n",
    "import matplotlib.pyplot as plt"
   ]
  },
  {
   "cell_type": "code",
   "execution_count": 138,
   "id": "6790e9be",
   "metadata": {},
   "outputs": [],
   "source": [
    "comparisons = []\n",
    "with open('comp_inputs.txt', 'r') as f:\n",
    "    for line in f:\n",
    "        a, b = line.strip().split(';')\n",
    "        a = float(a)\n",
    "        b = float(b)\n",
    "        comparisons.append((a, b))\n",
    "        \n",
    "comp_lhs = list(map(lambda x:x[0], comparisons))\n",
    "comp_rhs = list(map(lambda x:x[1], comparisons))"
   ]
  },
  {
   "cell_type": "code",
   "execution_count": 140,
   "id": "5bd339c0",
   "metadata": {},
   "outputs": [
    {
     "name": "stdout",
     "output_type": "stream",
     "text": [
      "1253.38\n",
      "0.00202482\n",
      "1253.38\n",
      "0.0\n"
     ]
    }
   ],
   "source": [
    "print(np.max(comp_lhs))\n",
    "print(np.min(comp_lhs))\n",
    "print(np.max(comp_rhs))\n",
    "print(np.min(comp_rhs))"
   ]
  },
  {
   "cell_type": "code",
   "execution_count": 50,
   "id": "eca06777",
   "metadata": {},
   "outputs": [],
   "source": [
    "def iter_inv_sqrt(d):\n",
    "    x = d*0.5\n",
    "    for i in range(10):\n",
    "        x = x + 0.5*(x*(1-x*x*d))\n",
    "        #print(x)\n",
    "    return x"
   ]
  },
  {
   "cell_type": "code",
   "execution_count": 51,
   "id": "232e57f9",
   "metadata": {},
   "outputs": [
    {
     "data": {
      "text/plain": [
       "0.7071067811865476"
      ]
     },
     "execution_count": 51,
     "metadata": {},
     "output_type": "execute_result"
    }
   ],
   "source": [
    "iter_inv_sqrt(2)"
   ]
  },
  {
   "cell_type": "code",
   "execution_count": 52,
   "id": "356a9114",
   "metadata": {},
   "outputs": [
    {
     "name": "stderr",
     "output_type": "stream",
     "text": [
      "/tmp/ipykernel_6717/2865463703.py:4: RuntimeWarning: overflow encountered in scalar multiply\n",
      "  x = x + 0.5*(x*(1-x*x*d))\n",
      "/tmp/ipykernel_6717/463640661.py:5: RuntimeWarning: invalid value encountered in sqrt\n",
      "  if abs(sq - 1/np.sqrt(x)) < 1e-5:\n",
      "/tmp/ipykernel_6717/2865463703.py:4: RuntimeWarning: invalid value encountered in scalar add\n",
      "  x = x + 0.5*(x*(1-x*x*d))\n"
     ]
    }
   ],
   "source": [
    "t = np.linspace(-5, 5)\n",
    "res = []\n",
    "for x in t:\n",
    "    sq = iter_inv_sqrt(x)\n",
    "    if abs(sq - 1/np.sqrt(x)) < 1e-5:\n",
    "        res.append(True)\n",
    "    else:\n",
    "        res.append(False)"
   ]
  },
  {
   "cell_type": "code",
   "execution_count": 53,
   "id": "c6c42efc",
   "metadata": {},
   "outputs": [
    {
     "name": "stdout",
     "output_type": "stream",
     "text": [
      "[False, False, False, False, False, False, False, False, False, False, False, False, False, False, False, False, False, False, False, False, False, False, False, False, False, False, True, True, True, True, True, True, True, True, True, True, False, False, False, False, False, False, False, False, False, False, False, False, False, False]\n"
     ]
    }
   ],
   "source": [
    "print(res)"
   ]
  },
  {
   "cell_type": "code",
   "execution_count": 68,
   "id": "f266685d",
   "metadata": {},
   "outputs": [],
   "source": [
    "def poly_sign(x):\n",
    "    res = 0\n",
    "    for i in range(100):\n",
    "        res += 1.0/(4**i) * sc.special.binom(2*i, i) * x*(1-x*x)**i\n",
    "    return res\n",
    "\n",
    "vpoly = np.vectorize(poly_sign)"
   ]
  },
  {
   "cell_type": "code",
   "execution_count": 69,
   "id": "d9086be8",
   "metadata": {},
   "outputs": [
    {
     "data": {
      "text/plain": [
       "[<matplotlib.lines.Line2D at 0x7ff177a31a50>]"
      ]
     },
     "execution_count": 69,
     "metadata": {},
     "output_type": "execute_result"
    },
    {
     "data": {
      "image/png": "[encoded data removed]",
      "text/plain": [
       "<Figure size 640x480 with 1 Axes>"
      ]
     },
     "metadata": {},
     "output_type": "display_data"
    }
   ],
   "source": [
    "k = np.linspace(-1,1)\n",
    "\n",
    "plt.plot(k, vpoly(k))"
   ]
  },
  {
   "cell_type": "code",
   "execution_count": 192,
   "id": "34c8456d",
   "metadata": {},
   "outputs": [
    {
     "data": {
      "text/latex": [
       "$\\displaystyle - \\frac{12155 \\sqrt{2} \\left(x - 8\\right)^{9}}{35184372088832} + \\frac{6435 \\sqrt{2} \\left(x - 8\\right)^{8}}{2199023255552} - \\frac{429 \\sqrt{2} \\left(x - 8\\right)^{7}}{17179869184} + \\frac{231 \\sqrt{2} \\left(x - 8\\right)^{6}}{1073741824} - \\frac{63 \\sqrt{2} \\left(x - 8\\right)^{5}}{33554432} + \\frac{35 \\sqrt{2} \\left(x - 8\\right)^{4}}{2097152} - \\frac{5 \\sqrt{2} \\left(x - 8\\right)^{3}}{32768} + \\frac{3 \\sqrt{2} \\left(x - 8\\right)^{2}}{2048} - \\frac{\\sqrt{2} \\left(x - 8\\right)}{64} + \\frac{\\sqrt{2}}{4}$"
      ],
      "text/plain": [
       "-12155*sqrt(2)*(x - 8)**9/35184372088832 + 6435*sqrt(2)*(x - 8)**8/2199023255552 - 429*sqrt(2)*(x - 8)**7/17179869184 + 231*sqrt(2)*(x - 8)**6/1073741824 - 63*sqrt(2)*(x - 8)**5/33554432 + 35*sqrt(2)*(x - 8)**4/2097152 - 5*sqrt(2)*(x - 8)**3/32768 + 3*sqrt(2)*(x - 8)**2/2048 - sqrt(2)*(x - 8)/64 + sqrt(2)/4"
      ]
     },
     "execution_count": 192,
     "metadata": {},
     "output_type": "execute_result"
    }
   ],
   "source": [
    "x = sp.var('x')\n",
    "taylor = sp.series(1/sp.sqrt(x), x, x0=8, n=10).removeO()\n",
    "taylor"
   ]
  },
  {
   "cell_type": "code",
   "execution_count": 193,
   "id": "d1e2a8fe",
   "metadata": {},
   "outputs": [
    {
     "data": {
      "text/latex": [
       "$\\displaystyle 0.761393574951396$"
      ],
      "text/plain": [
       "0.761393574951396"
      ]
     },
     "execution_count": 193,
     "metadata": {},
     "output_type": "execute_result"
    }
   ],
   "source": [
    "taylor.subs({'x':1.6}).evalf()"
   ]
  },
  {
   "cell_type": "code",
   "execution_count": 197,
   "id": "fa58501f",
   "metadata": {},
   "outputs": [
    {
     "name": "stderr",
     "output_type": "stream",
     "text": [
      "/tmp/ipykernel_6717/989757183.py:6: RuntimeWarning: divide by zero encountered in scalar divide\n",
      "  invsq[i] = 1/np.sqrt(x_)\n"
     ]
    }
   ],
   "source": [
    "x = np.linspace(0,8)\n",
    "invsq = np.zeros(len(x))\n",
    "taylorsq = np.zeros(len(x))\n",
    "\n",
    "for i, x_ in enumerate(x):\n",
    "    invsq[i] = 1/np.sqrt(x_)\n",
    "    taylorsq[i] = float(taylor.subs({'x': x_}).evalf())"
   ]
  },
  {
   "cell_type": "code",
   "execution_count": 198,
   "id": "dafbd2f1",
   "metadata": {},
   "outputs": [
    {
     "data": {
      "text/plain": [
       "[<matplotlib.lines.Line2D at 0x7ff172a1cf50>]"
      ]
     },
     "execution_count": 198,
     "metadata": {},
     "output_type": "execute_result"
    },
    {
     "data": {
      "image/png": "[encoded data removed]",
      "text/plain": [
       "<Figure size 640x480 with 1 Axes>"
      ]
     },
     "metadata": {},
     "output_type": "display_data"
    }
   ],
   "source": [
    "plt.plot(x, invsq)\n",
    "plt.plot(x, taylorsq)"
   ]
  },
  {
   "cell_type": "code",
   "execution_count": 219,
   "id": "ae0b4a07",
   "metadata": {},
   "outputs": [],
   "source": [
    "def taylor_iter_inv_sqrt(d):\n",
    "    x = float(taylor.subs({'x':d}).evalf())\n",
    "    for i in range(24):\n",
    "        x = x + 0.5*(x*(1-x*x*d))\n",
    "        #print(x)\n",
    "    return x"
   ]
  },
  {
   "cell_type": "code",
   "execution_count": 220,
   "id": "342f5dc3",
   "metadata": {},
   "outputs": [
    {
     "data": {
      "text/plain": [
       "791.6375433239633"
      ]
     },
     "execution_count": 220,
     "metadata": {},
     "output_type": "execute_result"
    }
   ],
   "source": [
    "taylor_iter_inv_sqrt(0.0002/125.338)"
   ]
  },
  {
   "cell_type": "code",
   "execution_count": 221,
   "id": "f69eb6c5",
   "metadata": {},
   "outputs": [],
   "source": [
    "def silly_inv_abs(x):\n",
    "    return taylor_iter_inv_sqrt(x*x)\n",
    "\n",
    "def silly_sign(x):\n",
    "    return x*silly_inv_abs(x)\n",
    "\n",
    "def silly_max(a,b):\n",
    "    sgn = silly_sign(a-b)\n",
    "    return 0.5*(1+sgn)*a+0.5*(1-sgn)*b"
   ]
  },
  {
   "cell_type": "code",
   "execution_count": null,
   "id": "b17bc082",
   "metadata": {},
   "outputs": [
    {
     "name": "stdout",
     "output_type": "stream",
     "text": [
      "max(0.0024825, 0.0) = 0.0024825, approx = 0.0017353416528769984, dev = 0.0007471583471230015\n",
      "max(24.5507, 24.5556) = 24.5556, approx = 24.554854291271734, dev = 0.0007457087282638497\n",
      "max(0.0208956, 0.0024825) = 0.0208956, approx = 0.020893849584197197, dev = 1.750415802803662e-06\n"
     ]
    }
   ],
   "source": [
    "my_comp_res = []\n",
    "correct_comp_res = []\n",
    "\n",
    "for a,b in comparisons:\n",
    "    cres = silly_max(a/125,b/125)*125\n",
    "    \n",
    "    dev = abs(max(a,b)-cres)\n",
    "    \n",
    "    if dev>1e-8:\n",
    "        print(f'max({a}, {b}) = {max(a,b)}, approx = {cres}, dev = {dev}')\n",
    "     "
   ]
  },
  {
   "cell_type": "code",
   "execution_count": null,
   "id": "a859b17b",
   "metadata": {},
   "outputs": [],
   "source": []
  }
 ],
 "metadata": {
  "kernelspec": {
   "display_name": "Python 3 (ipykernel)",
   "language": "python",
   "name": "python3"
  },
  "language_info": {
   "codemirror_mode": {
    "name": "ipython",
    "version": 3
   },
   "file_extension": ".py",
   "mimetype": "text/x-python",
   "name": "python",
   "nbconvert_exporter": "python",
   "pygments_lexer": "ipython3",
   "version": "3.11.3"
  }
 },
 "nbformat": 4,
 "nbformat_minor": 5
}
