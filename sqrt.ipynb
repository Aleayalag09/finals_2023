{
 "cells": [
  {
   "cell_type": "code",
   "execution_count": 70,
   "id": "9f551322",
   "metadata": {},
   "outputs": [],
   "source": [
    "import numpy as np\n",
    "import scipy as sc\n",
    "import sympy as sp\n",
    "import matplotlib.pyplot as plt"
   ]
  },
  {
   "cell_type": "code",
   "execution_count": 138,
   "id": "dcfa9d13",
   "metadata": {},
   "outputs": [],
   "source": [
    "comparisons = []\n",
    "with open('comp_inputs.txt', 'r') as f:\n",
    "    for line in f:\n",
    "        a, b = line.strip().split(';')\n",
    "        a = float(a)\n",
    "        b = float(b)\n",
    "        comparisons.append((a, b))\n",
    "        \n",
    "comp_lhs = list(map(lambda x:x[0], comparisons))\n",
    "comp_rhs = list(map(lambda x:x[1], comparisons))"
   ]
  },
  {
   "cell_type": "code",
   "execution_count": 140,
   "id": "73749f4f",
   "metadata": {},
   "outputs": [
    {
     "name": "stdout",
     "output_type": "stream",
     "text": [
      "1253.38\n",
      "0.00202482\n",
      "1253.38\n",
      "0.0\n"
     ]
    }
   ],
   "source": [
    "print(np.max(comp_lhs))\n",
    "print(np.min(comp_lhs))\n",
    "print(np.max(comp_rhs))\n",
    "print(np.min(comp_rhs))"
   ]
  },
  {
   "cell_type": "code",
   "execution_count": 50,
   "id": "079162b7",
   "metadata": {},
   "outputs": [],
   "source": [
    "def iter_inv_sqrt(d):\n",
    "    x = d*0.5\n",
    "    for i in range(10):\n",
    "        x = x + 0.5*(x*(1-x*x*d))\n",
    "        #print(x)\n",
    "    return x"
   ]
  },
  {
   "cell_type": "code",
   "execution_count": 51,
   "id": "67a9729a",
   "metadata": {},
   "outputs": [
    {
     "data": {
      "text/plain": [
       "0.7071067811865476"
      ]
     },
     "execution_count": 51,
     "metadata": {},
     "output_type": "execute_result"
    }
   ],
   "source": [
    "iter_inv_sqrt(2)"
   ]
  },
  {
   "cell_type": "code",
   "execution_count": 52,
   "id": "ba335ea1",
   "metadata": {},
   "outputs": [
    {
     "name": "stderr",
     "output_type": "stream",
     "text": [
      "/tmp/ipykernel_6717/2865463703.py:4: RuntimeWarning: overflow encountered in scalar multiply\n",
      "  x = x + 0.5*(x*(1-x*x*d))\n",
      "/tmp/ipykernel_6717/463640661.py:5: RuntimeWarning: invalid value encountered in sqrt\n",
      "  if abs(sq - 1/np.sqrt(x)) < 1e-5:\n",
      "/tmp/ipykernel_6717/2865463703.py:4: RuntimeWarning: invalid value encountered in scalar add\n",
      "  x = x + 0.5*(x*(1-x*x*d))\n"
     ]
    }
   ],
   "source": [
    "t = np.linspace(-5, 5)\n",
    "res = []\n",
    "for x in t:\n",
    "    sq = iter_inv_sqrt(x)\n",
    "    if abs(sq - 1/np.sqrt(x)) < 1e-5:\n",
    "        res.append(True)\n",
    "    else:\n",
    "        res.append(False)"
   ]
  },
  {
   "cell_type": "code",
   "execution_count": 53,
   "id": "03cf738d",
   "metadata": {},
   "outputs": [
    {
     "name": "stdout",
     "output_type": "stream",
     "text": [
      "[False, False, False, False, False, False, False, False, False, False, False, False, False, False, False, False, False, False, False, False, False, False, False, False, False, False, True, True, True, True, True, True, True, True, True, True, False, False, False, False, False, False, False, False, False, False, False, False, False, False]\n"
     ]
    }
   ],
   "source": [
    "print(res)"
   ]
  },
  {
   "cell_type": "code",
   "execution_count": 68,
   "id": "bcdfcd54",
   "metadata": {},
   "outputs": [],
   "source": [
    "def poly_sign(x):\n",
    "    res = 0\n",
    "    for i in range(100):\n",
    "        res += 1.0/(4**i) * sc.special.binom(2*i, i) * x*(1-x*x)**i\n",
    "    return res\n",
    "\n",
    "vpoly = np.vectorize(poly_sign)"
   ]
  },
  {
   "cell_type": "code",
   "execution_count": 69,
   "id": "be35c003",
   "metadata": {},
   "outputs": [
    {
     "data": {
      "text/plain": [
       "[<matplotlib.lines.Line2D at 0x7ff177a31a50>]"
      ]
     },
     "execution_count": 69,
     "metadata": {},
     "output_type": "execute_result"
    },
    {
     "data": {
      "image/png": "[encoded data removed]",
      "text/plain": [
       "<Figure size 640x480 with 1 Axes>"
      ]
     },
     "metadata": {},
     "output_type": "display_data"
    }
   ],
   "source": [
    "k = np.linspace(-1,1)\n",
    "\n",
    "plt.plot(k, vpoly(k))"
   ]
  },
  {
   "cell_type": "code",
   "execution_count": 270,
   "id": "b5eb6963",
   "metadata": {},
   "outputs": [
    {
     "data": {
      "text/latex": [
       "$\\displaystyle - \\frac{12155 \\sqrt{6} \\left(x - 6\\right)^{9}}{3962711310336} + \\frac{715 \\sqrt{6} \\left(x - 6\\right)^{8}}{36691771392} - \\frac{143 \\sqrt{6} \\left(x - 6\\right)^{7}}{1146617856} + \\frac{77 \\sqrt{6} \\left(x - 6\\right)^{6}}{95551488} - \\frac{7 \\sqrt{6} \\left(x - 6\\right)^{5}}{1327104} + \\frac{35 \\sqrt{6} \\left(x - 6\\right)^{4}}{995328} - \\frac{5 \\sqrt{6} \\left(x - 6\\right)^{3}}{20736} + \\frac{\\sqrt{6} \\left(x - 6\\right)^{2}}{576} - \\frac{\\sqrt{6} \\left(x - 6\\right)}{72} + \\frac{\\sqrt{6}}{6}$"
      ],
      "text/plain": [
       "-12155*sqrt(6)*(x - 6)**9/3962711310336 + 715*sqrt(6)*(x - 6)**8/36691771392 - 143*sqrt(6)*(x - 6)**7/1146617856 + 77*sqrt(6)*(x - 6)**6/95551488 - 7*sqrt(6)*(x - 6)**5/1327104 + 35*sqrt(6)*(x - 6)**4/995328 - 5*sqrt(6)*(x - 6)**3/20736 + sqrt(6)*(x - 6)**2/576 - sqrt(6)*(x - 6)/72 + sqrt(6)/6"
      ]
     },
     "execution_count": 270,
     "metadata": {},
     "output_type": "execute_result"
    }
   ],
   "source": [
    "x = sp.var('x')\n",
    "taylor = sp.series(1/sp.sqrt(x), x, x0=6, n=10).removeO()\n",
    "taylor"
   ]
  },
  {
   "cell_type": "code",
   "execution_count": 280,
   "id": "2acb6774",
   "metadata": {},
   "outputs": [
    {
     "data": {
      "text/plain": [
       "[-12155/3962711310336,\n",
       " 13585/73383542784,\n",
       " -46189/9172942848,\n",
       " 124355/1528823808,\n",
       " -146965/169869312,\n",
       " 1616615/254803968,\n",
       " -230945/7077888,\n",
       " 46189/393216,\n",
       " -230945/786432,\n",
       " 230945/393216]"
      ]
     },
     "execution_count": 280,
     "metadata": {},
     "output_type": "execute_result"
    }
   ],
   "source": [
    "polys = sp.poly(taylor).coeffs()\n",
    "polys"
   ]
  },
  {
   "cell_type": "code",
   "execution_count": 278,
   "id": "292dea49",
   "metadata": {},
   "outputs": [
    {
     "data": {
      "text/plain": [
       "0.31827053763624513"
      ]
     },
     "execution_count": 278,
     "metadata": {},
     "output_type": "execute_result"
    }
   ],
   "source": [
    "acc = 0\n",
    "for k in range(10):\n",
    "    acc += (1.6)**k*float(polys[9-k])\n",
    "    \n",
    "acc"
   ]
  },
  {
   "cell_type": "code",
   "execution_count": 276,
   "id": "d75d215a",
   "metadata": {},
   "outputs": [
    {
     "data": {
      "text/latex": [
       "$\\displaystyle 0.77960041737007$"
      ],
      "text/plain": [
       "0.779600417370070"
      ]
     },
     "execution_count": 276,
     "metadata": {},
     "output_type": "execute_result"
    }
   ],
   "source": [
    "taylor.subs({'x':1.6}).evalf()"
   ]
  },
  {
   "cell_type": "code",
   "execution_count": 253,
   "id": "6ff3523e",
   "metadata": {},
   "outputs": [
    {
     "name": "stderr",
     "output_type": "stream",
     "text": [
      "/tmp/ipykernel_6717/989757183.py:6: RuntimeWarning: divide by zero encountered in scalar divide\n",
      "  invsq[i] = 1/np.sqrt(x_)\n"
     ]
    }
   ],
   "source": [
    "x = np.linspace(0,8)\n",
    "invsq = np.zeros(len(x))\n",
    "taylorsq = np.zeros(len(x))\n",
    "\n",
    "for i, x_ in enumerate(x):\n",
    "    invsq[i] = 1/np.sqrt(x_)\n",
    "    taylorsq[i] = float(taylor.subs({'x': x_}).evalf())"
   ]
  },
  {
   "cell_type": "code",
   "execution_count": 254,
   "id": "e868ecda",
   "metadata": {},
   "outputs": [
    {
     "data": {
      "text/plain": [
       "[<matplotlib.lines.Line2D at 0x7ff172284210>]"
      ]
     },
     "execution_count": 254,
     "metadata": {},
     "output_type": "execute_result"
    },
    {
     "data": {
      "image/png": "[encoded data removed]",
      "text/plain": [
       "<Figure size 640x480 with 1 Axes>"
      ]
     },
     "metadata": {},
     "output_type": "display_data"
    }
   ],
   "source": [
    "plt.plot(x, invsq)\n",
    "plt.plot(x, taylorsq)"
   ]
  },
  {
   "cell_type": "code",
   "execution_count": 259,
   "id": "b97a2117",
   "metadata": {},
   "outputs": [],
   "source": [
    "def taylor_iter_inv_sqrt(d):\n",
    "    x = float(taylor.subs({'x':d}).evalf())\n",
    "    for i in range(29):\n",
    "        x = x + 0.5*(x*(1-x*x*d))\n",
    "        #print(x)\n",
    "    return x"
   ]
  },
  {
   "cell_type": "code",
   "execution_count": 260,
   "id": "7486e6cb",
   "metadata": {},
   "outputs": [
    {
     "data": {
      "text/plain": [
       "791.6375433239633"
      ]
     },
     "execution_count": 260,
     "metadata": {},
     "output_type": "execute_result"
    }
   ],
   "source": [
    "taylor_iter_inv_sqrt(0.0002/125.338)"
   ]
  },
  {
   "cell_type": "code",
   "execution_count": 261,
   "id": "1a8c9c28",
   "metadata": {},
   "outputs": [],
   "source": [
    "def silly_inv_abs(x):\n",
    "    return taylor_iter_inv_sqrt(x*x)\n",
    "\n",
    "def silly_sign(x):\n",
    "    return x*silly_inv_abs(x)\n",
    "\n",
    "def silly_max(a,b):\n",
    "    sgn = silly_sign(a-b)\n",
    "    return 0.5*(1+sgn)*a+0.5*(1-sgn)*b"
   ]
  },
  {
   "cell_type": "code",
   "execution_count": 262,
   "id": "3bf542da",
   "metadata": {},
   "outputs": [
    {
     "name": "stdout",
     "output_type": "stream",
     "text": [
      "max(0.0024825, 0.0) = 0.0024825, approx = 0.002482484200803491, dev = 1.5799196508795715e-08\n"
     ]
    }
   ],
   "source": [
    "my_comp_res = []\n",
    "correct_comp_res = []\n",
    "\n",
    "for a,b in comparisons:\n",
    "    cres = silly_max(a/125,b/125)*125\n",
    "    \n",
    "    dev = abs(max(a,b)-cres)\n",
    "    \n",
    "    if dev>1e-8:\n",
    "        print(f'max({a}, {b}) = {max(a,b)}, approx = {cres}, dev = {dev}')\n",
    "     "
   ]
  },
  {
   "cell_type": "code",
   "execution_count": null,
   "id": "60169fd0",
   "metadata": {},
   "outputs": [],
   "source": []
  }
 ],
 "metadata": {
  "kernelspec": {
   "display_name": "Python 3 (ipykernel)",
   "language": "python",
   "name": "python3"
  },
  "language_info": {
   "codemirror_mode": {
    "name": "ipython",
    "version": 3
   },
   "file_extension": ".py",
   "mimetype": "text/x-python",
   "name": "python",
   "nbconvert_exporter": "python",
   "pygments_lexer": "ipython3",
   "version": "3.11.3"
  }
 },
 "nbformat": 4,
 "nbformat_minor": 5
}
