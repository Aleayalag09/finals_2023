{
 "cells": [
  {
   "cell_type": "code",
   "execution_count": 1,
   "id": "c5da4fa4",
   "metadata": {},
   "outputs": [],
   "source": [
    "import numpy as np"
   ]
  },
  {
   "cell_type": "code",
   "execution_count": 16,
   "id": "c531bdda",
   "metadata": {},
   "outputs": [],
   "source": [
    "def iter_inv_sqrt(d):\n",
    "    x = 0.5*d\n",
    "    for i in range(10):\n",
    "        x = x + 0.5*(x*(1-x*x*d))\n",
    "        print(x)\n",
    "    return x"
   ]
  },
  {
   "cell_type": "code",
   "execution_count": 17,
   "id": "7fc6ae8d",
   "metadata": {},
   "outputs": [
    {
     "name": "stdout",
     "output_type": "stream",
     "text": [
      "0.5\n",
      "0.625\n",
      "0.693359375\n",
      "0.7067084684967995\n",
      "0.7071064446959071\n",
      "0.7071067811863073\n",
      "0.7071067811865475\n",
      "0.7071067811865476\n",
      "0.7071067811865475\n",
      "0.7071067811865476\n"
     ]
    },
    {
     "data": {
      "text/plain": [
       "0.7071067811865476"
      ]
     },
     "execution_count": 17,
     "metadata": {},
     "output_type": "execute_result"
    }
   ],
   "source": [
    "iter_inv_sqrt(2)"
   ]
  },
  {
   "cell_type": "code",
   "execution_count": 15,
   "id": "a9f7e84d",
   "metadata": {},
   "outputs": [
    {
     "name": "stderr",
     "output_type": "stream",
     "text": [
      "/tmp/ipykernel_6717/167239435.py:4: RuntimeWarning: overflow encountered in scalar multiply\n",
      "  x = x + 0.5*(x*(1-x*x*d))\n",
      "/tmp/ipykernel_6717/463640661.py:5: RuntimeWarning: invalid value encountered in sqrt\n",
      "  if abs(sq - 1/np.sqrt(x)) < 1e-5:\n",
      "/tmp/ipykernel_6717/167239435.py:4: RuntimeWarning: invalid value encountered in scalar add\n",
      "  x = x + 0.5*(x*(1-x*x*d))\n"
     ]
    }
   ],
   "source": [
    "t = np.linspace(-5, 5)\n",
    "res = []\n",
    "for x in t:\n",
    "    sq = iter_inv_sqrt(x)\n",
    "    if abs(sq - 1/np.sqrt(x)) < 1e-5:\n",
    "        res.append(True)\n",
    "    else:\n",
    "        res.append(False)"
   ]
  },
  {
   "cell_type": "raw",
   "id": "027e7ed0",
   "metadata": {},
   "source": [
    "print(res)"
   ]
  },
  {
   "cell_type": "code",
   "execution_count": null,
   "id": "70ff00fd",
   "metadata": {},
   "outputs": [],
   "source": []
  }
 ],
 "metadata": {
  "kernelspec": {
   "display_name": "Python 3 (ipykernel)",
   "language": "python",
   "name": "python3"
  },
  "language_info": {
   "codemirror_mode": {
    "name": "ipython",
    "version": 3
   },
   "file_extension": ".py",
   "mimetype": "text/x-python",
   "name": "python",
   "nbconvert_exporter": "python",
   "pygments_lexer": "ipython3",
   "version": "3.11.3"
  }
 },
 "nbformat": 4,
 "nbformat_minor": 5
}
